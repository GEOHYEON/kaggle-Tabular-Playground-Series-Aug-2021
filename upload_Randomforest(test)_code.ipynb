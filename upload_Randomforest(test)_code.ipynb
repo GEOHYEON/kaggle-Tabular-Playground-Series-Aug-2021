{
 "cells": [
  {
   "cell_type": "code",
   "execution_count": 1,
   "id": "cb1d3362",
   "metadata": {},
   "outputs": [],
   "source": [
    "import numpy as np\n",
    "import pandas as pd\n",
    "import matplotlib\n",
    "import matplotlib.pyplot as plt\n",
    "import seaborn as sns\n",
    "\n",
    "%matplotlib inline"
   ]
  },
  {
   "cell_type": "code",
   "execution_count": 2,
   "id": "12669448",
   "metadata": {},
   "outputs": [],
   "source": [
    "import warnings\n",
    "\n",
    "warnings.filterwarnings( 'ignore' )"
   ]
  },
  {
   "cell_type": "markdown",
   "id": "07e22bb9",
   "metadata": {},
   "source": []
  },
  {
   "cell_type": "code",
   "execution_count": 3,
   "id": "a3713e51",
   "metadata": {},
   "outputs": [],
   "source": [
    "train_data = pd.read_csv(\"train.csv\") \n",
    "test_data = pd.read_csv(\"test.csv\")\n",
    "sample_result = pd.read_csv(\"sample_submission.csv\")"
   ]
  },
  {
   "cell_type": "code",
   "execution_count": 4,
   "id": "a5829ad5",
   "metadata": {},
   "outputs": [],
   "source": [
    "x_data = train_data.loc[:, 'f0':'f99']\n",
    "y_data = train_data.loc[:, 'loss']"
   ]
  },
  {
   "cell_type": "markdown",
   "id": "e09dd75d",
   "metadata": {},
   "source": []
  },
  {
   "cell_type": "code",
   "execution_count": 5,
   "id": "a88ca563",
   "metadata": {},
   "outputs": [],
   "source": [
    "from sklearn.model_selection import train_test_split"
   ]
  },
  {
   "cell_type": "code",
   "execution_count": 6,
   "id": "e095a8a0",
   "metadata": {},
   "outputs": [],
   "source": [
    "x_train, x_test, y_train, y_test=train_test_split(x_data,\n",
    "                                                  y_data,\n",
    "                                                  test_size=0.2,   #전체 중 20%를 테스트용으로 분할\n",
    "                                                                   #나머지 80%는 훈련용\n",
    "                                                  shuffle=True,    #무작위로 섞어서 추출\n",
    "                                                  random_state=20) #무작위 추출 시 일정한 기준으로"
   ]
  },
  {
   "cell_type": "code",
   "execution_count": 13,
   "id": "eb1db189",
   "metadata": {},
   "outputs": [
    {
     "data": {
      "text/plain": [
       "RandomForestRegressor(max_features=33, max_leaf_nodes=30, n_estimators=2000,\n",
       "                      n_jobs=-1)"
      ]
     },
     "execution_count": 13,
     "metadata": {},
     "output_type": "execute_result"
    }
   ],
   "source": [
    "#  Decision tree의 수 (n_estimators) \n",
    "# - Strong law of large numbers 을 만족시키기 위해 2,000개 이상의 decision tree 필요 \n",
    "#   (그러나, 아닌 경우도 많이  있음. search 및 최적화가 필요) (default 값이 대부분 10)\n",
    "# Decision tree에서 노드 분할 시 무작위로 선택되는 변수의 수 (Max_features)\n",
    "# - 일반적으로 변수의 수에 따라 다음과 같이 추천됨 (Diaz-Uriarte et el., 2006) (그러나, guide line일 뿐 search 필요)\n",
    "# - 이 값이 크면 performance가 향상될 수 있지만, overfitting의 가능성 존재\n",
    "# - Classification : sqrt(변수의 수)\n",
    "# - Regression : 변수의 수/3\n",
    "# - 옵션 : auto(제한 없음), sqrt(전체 feature 갯수에 square root), log2 (전체 feature 갯수에 log2)\n",
    "# Max_depth \n",
    "# - 각 트리의 최대 depth를 의미함\n",
    "# - Default 값은 대부분 None. 즉, 모든 leaf가 pure해질 때 까지 트리를 만드는 것. \n",
    "#  (Pure하다는 것은, 하나의 leaf에 해당하는 데이터가 동일한 class를 가지는 상태임)\n",
    "# Min_sample_leaf \n",
    "# - 각 leaf 노드에서의 최소 데이터 갯수\n",
    "# - Default 값은 대부분 1. 즉, 모든 leaf 노드는 1개 이상의 데이터를 가져야 함\n",
    "# - 특히 regression 문제에서, smoothing 효과와 관련 있음\n",
    "# - Training dataset의 갯수를 보고 결정해야 함\n",
    "# Min_sample_split- Leaf 가 아닌 노드(internal node)에서의 최소 데이터 갯수\n",
    "# - Default 값은 대부분 2. 즉, split 되기 전의 internal node는 2개 이상의 데이터를 가져야 함\n",
    "# - 값이 너무 크면 underfitting 가능성 있음\n",
    "# - Training dataset의 갯수를 보고 결정해야 함\n",
    "\n",
    "\n",
    "from sklearn.ensemble import RandomForestRegressor\n",
    "from sklearn.metrics import mean_squared_error\n",
    "\n",
    "rnd_clf = RandomForestRegressor(n_estimators=2000, max_features=33, max_leaf_nodes=30, n_jobs=-1)\n",
    "rnd_clf.fit(x_train, y_train)"
   ]
  },
  {
   "cell_type": "code",
   "execution_count": 14,
   "id": "bd2903f8",
   "metadata": {},
   "outputs": [
    {
     "name": "stdout",
     "output_type": "stream",
     "text": [
      "7.865402276518901\n"
     ]
    }
   ],
   "source": [
    "y_pred = rnd_clf.predict(x_test)\n",
    "rms = np.sqrt(mean_squared_error(y_test, y_pred))\n",
    "print(rms)"
   ]
  },
  {
   "cell_type": "code",
   "execution_count": null,
   "id": "12435bba",
   "metadata": {},
   "outputs": [],
   "source": [
    "# RandomForestRegressor(max_features=33, max_leaf_nodes=30, n_estimators=2000,\n",
    "#                       n_jobs=-1)\n",
    "# 7.865402276518901"
   ]
  },
  {
   "cell_type": "code",
   "execution_count": 15,
   "id": "6281f7c7",
   "metadata": {},
   "outputs": [
    {
     "ename": "NameError",
     "evalue": "name 'lin_reg' is not defined",
     "output_type": "error",
     "traceback": [
      "\u001b[0;31m---------------------------------------------------------------------------\u001b[0m",
      "\u001b[0;31mNameError\u001b[0m                                 Traceback (most recent call last)",
      "\u001b[0;32m<ipython-input-15-5cc92096feb4>\u001b[0m in \u001b[0;36m<module>\u001b[0;34m\u001b[0m\n\u001b[1;32m      1\u001b[0m \u001b[0mnew_x_test\u001b[0m \u001b[0;34m=\u001b[0m \u001b[0mtest_data\u001b[0m\u001b[0;34m.\u001b[0m\u001b[0mloc\u001b[0m\u001b[0;34m[\u001b[0m\u001b[0;34m:\u001b[0m\u001b[0;34m,\u001b[0m \u001b[0;34m'f0'\u001b[0m\u001b[0;34m:\u001b[0m\u001b[0;34m'f99'\u001b[0m\u001b[0;34m]\u001b[0m\u001b[0;34m\u001b[0m\u001b[0;34m\u001b[0m\u001b[0m\n\u001b[0;32m----> 2\u001b[0;31m \u001b[0mnew_y_pred\u001b[0m \u001b[0;34m=\u001b[0m \u001b[0mlin_reg\u001b[0m\u001b[0;34m.\u001b[0m\u001b[0mpredict\u001b[0m\u001b[0;34m(\u001b[0m\u001b[0mnew_x_test\u001b[0m\u001b[0;34m)\u001b[0m\u001b[0;34m\u001b[0m\u001b[0;34m\u001b[0m\u001b[0m\n\u001b[0m\u001b[1;32m      3\u001b[0m \u001b[0;34m\u001b[0m\u001b[0m\n\u001b[1;32m      4\u001b[0m \u001b[0;34m\u001b[0m\u001b[0m\n\u001b[1;32m      5\u001b[0m \u001b[0;32mfrom\u001b[0m \u001b[0mpandas\u001b[0m \u001b[0;32mimport\u001b[0m \u001b[0mSeries\u001b[0m\u001b[0;34m,\u001b[0m \u001b[0mDataFrame\u001b[0m\u001b[0;34m\u001b[0m\u001b[0;34m\u001b[0m\u001b[0m\n",
      "\u001b[0;31mNameError\u001b[0m: name 'lin_reg' is not defined"
     ]
    }
   ],
   "source": [
    "new_x_test = test_data.loc[:, 'f0':'f99']\n",
    "new_y_pred = lin_reg.predict(new_x_test)\n",
    "\n",
    "\n",
    "from pandas import Series, DataFrame\n",
    "\n",
    "raw_data = {'id': [ i for i in range(250000,400000)],\n",
    "            'loss': new_y_pred }\n",
    "\n",
    "data = DataFrame(raw_data)\n",
    "data.set_index('id', inplace=True)\n",
    "print(data)\n",
    "data.to_csv(\"submission.csv\", mode='w')"
   ]
  },
  {
   "cell_type": "code",
   "execution_count": null,
   "id": "191a30d5",
   "metadata": {},
   "outputs": [],
   "source": []
  }
 ],
 "metadata": {
  "kernelspec": {
   "display_name": "Python 3",
   "language": "python",
   "name": "python3"
  },
  "language_info": {
   "codemirror_mode": {
    "name": "ipython",
    "version": 3
   },
   "file_extension": ".py",
   "mimetype": "text/x-python",
   "name": "python",
   "nbconvert_exporter": "python",
   "pygments_lexer": "ipython3",
   "version": "3.8.8"
  }
 },
 "nbformat": 4,
 "nbformat_minor": 5
}
