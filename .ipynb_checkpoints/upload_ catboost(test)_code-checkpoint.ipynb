{
 "cells": [
  {
   "cell_type": "code",
   "execution_count": 2,
   "id": "d1fbfe81",
   "metadata": {},
   "outputs": [],
   "source": [
    "import numpy as np\n",
    "import pandas as pd\n",
    "import matplotlib\n",
    "import matplotlib.pyplot as plt\n",
    "import seaborn as sns\n",
    "\n",
    "%matplotlib inline"
   ]
  },
  {
   "cell_type": "code",
   "execution_count": 3,
   "id": "50283ca2",
   "metadata": {},
   "outputs": [],
   "source": [
    "import warnings\n",
    "\n",
    "warnings.filterwarnings( 'ignore' )"
   ]
  },
  {
   "cell_type": "code",
   "execution_count": 4,
   "id": "7d6d6ebb",
   "metadata": {},
   "outputs": [],
   "source": [
    "train_data = pd.read_csv(\"train.csv\") \n",
    "test_data = pd.read_csv(\"test.csv\")"
   ]
  },
  {
   "cell_type": "code",
   "execution_count": 5,
   "id": "28c3c653",
   "metadata": {},
   "outputs": [],
   "source": [
    "x_data = train_data.loc[:, 'f0':'f99']\n",
    "y_data = train_data.loc[:, 'loss']"
   ]
  },
  {
   "cell_type": "code",
   "execution_count": 6,
   "id": "830305ee",
   "metadata": {},
   "outputs": [],
   "source": [
    "from sklearn.model_selection import train_test_split"
   ]
  },
  {
   "cell_type": "code",
   "execution_count": 7,
   "id": "85fac348",
   "metadata": {},
   "outputs": [],
   "source": [
    "x_train, x_test, y_train, y_test=train_test_split(x_data,\n",
    "                                                  y_data,\n",
    "                                                  test_size=0.2,   #전체 중 20%를 테스트용으로 분할\n",
    "                                                                   #나머지 80%는 훈련용\n",
    "                                                  shuffle=True,    #무작위로 섞어서 추출\n",
    "                                                  random_state=20) #무작위 추출 시 일정한 기준으로"
   ]
  },
  {
   "cell_type": "code",
   "execution_count": 8,
   "id": "59512198",
   "metadata": {},
   "outputs": [],
   "source": [
    "# catboost 참고 코드: https://catboost.ai/docs/concepts/python-usages-examples.html\n",
    "# parameter tuning: https://catboost.ai/docs/concepts/parameter-tuning.html\n",
    "from catboost import CatBoostRegressor\n",
    "import catboost as cb"
   ]
  },
  {
   "cell_type": "code",
   "execution_count": 9,
   "id": "962d612e",
   "metadata": {},
   "outputs": [],
   "source": [
    "train_pool = cb.Pool(x_train, y_train)\n",
    "test_pool = cb.Pool(x_test)"
   ]
  },
  {
   "cell_type": "code",
   "execution_count": 24,
   "id": "54faf064",
   "metadata": {},
   "outputs": [
    {
     "name": "stdout",
     "output_type": "stream",
     "text": [
      "0:\tlearn: 7.9403087\ttotal: 28.9ms\tremaining: 2.87s\n",
      "1:\tlearn: 7.9327662\ttotal: 50ms\tremaining: 2.45s\n",
      "2:\tlearn: 7.9270070\ttotal: 73.4ms\tremaining: 2.37s\n",
      "3:\tlearn: 7.9216587\ttotal: 94.9ms\tremaining: 2.28s\n",
      "4:\tlearn: 7.9178865\ttotal: 115ms\tremaining: 2.18s\n",
      "5:\tlearn: 7.9130544\ttotal: 137ms\tremaining: 2.14s\n",
      "6:\tlearn: 7.9091847\ttotal: 158ms\tremaining: 2.1s\n",
      "7:\tlearn: 7.9055441\ttotal: 182ms\tremaining: 2.09s\n",
      "8:\tlearn: 7.9006902\ttotal: 205ms\tremaining: 2.07s\n",
      "9:\tlearn: 7.8972596\ttotal: 227ms\tremaining: 2.04s\n",
      "10:\tlearn: 7.8935065\ttotal: 254ms\tremaining: 2.05s\n",
      "11:\tlearn: 7.8899580\ttotal: 277ms\tremaining: 2.03s\n",
      "12:\tlearn: 7.8872211\ttotal: 298ms\tremaining: 1.99s\n",
      "13:\tlearn: 7.8838608\ttotal: 319ms\tremaining: 1.96s\n",
      "14:\tlearn: 7.8804965\ttotal: 340ms\tremaining: 1.93s\n",
      "15:\tlearn: 7.8776335\ttotal: 361ms\tremaining: 1.9s\n",
      "16:\tlearn: 7.8746108\ttotal: 382ms\tremaining: 1.86s\n",
      "17:\tlearn: 7.8713159\ttotal: 405ms\tremaining: 1.84s\n",
      "18:\tlearn: 7.8681443\ttotal: 427ms\tremaining: 1.82s\n",
      "19:\tlearn: 7.8648216\ttotal: 447ms\tremaining: 1.79s\n",
      "20:\tlearn: 7.8617553\ttotal: 469ms\tremaining: 1.76s\n",
      "21:\tlearn: 7.8591835\ttotal: 491ms\tremaining: 1.74s\n",
      "22:\tlearn: 7.8558655\ttotal: 514ms\tremaining: 1.72s\n",
      "23:\tlearn: 7.8532809\ttotal: 536ms\tremaining: 1.7s\n",
      "24:\tlearn: 7.8506845\ttotal: 559ms\tremaining: 1.68s\n",
      "25:\tlearn: 7.8477796\ttotal: 581ms\tremaining: 1.65s\n",
      "26:\tlearn: 7.8451212\ttotal: 602ms\tremaining: 1.63s\n",
      "27:\tlearn: 7.8428229\ttotal: 621ms\tremaining: 1.6s\n",
      "28:\tlearn: 7.8408704\ttotal: 643ms\tremaining: 1.57s\n",
      "29:\tlearn: 7.8390502\ttotal: 665ms\tremaining: 1.55s\n",
      "30:\tlearn: 7.8363491\ttotal: 689ms\tremaining: 1.53s\n",
      "31:\tlearn: 7.8341849\ttotal: 712ms\tremaining: 1.51s\n",
      "32:\tlearn: 7.8317473\ttotal: 737ms\tremaining: 1.5s\n",
      "33:\tlearn: 7.8293327\ttotal: 759ms\tremaining: 1.47s\n",
      "34:\tlearn: 7.8267425\ttotal: 781ms\tremaining: 1.45s\n",
      "35:\tlearn: 7.8245801\ttotal: 806ms\tremaining: 1.43s\n",
      "36:\tlearn: 7.8223062\ttotal: 827ms\tremaining: 1.41s\n",
      "37:\tlearn: 7.8200054\ttotal: 852ms\tremaining: 1.39s\n",
      "38:\tlearn: 7.8178270\ttotal: 875ms\tremaining: 1.37s\n",
      "39:\tlearn: 7.8149012\ttotal: 897ms\tremaining: 1.34s\n",
      "40:\tlearn: 7.8125959\ttotal: 924ms\tremaining: 1.33s\n",
      "41:\tlearn: 7.8105768\ttotal: 947ms\tremaining: 1.31s\n",
      "42:\tlearn: 7.8080924\ttotal: 969ms\tremaining: 1.28s\n",
      "43:\tlearn: 7.8056863\ttotal: 990ms\tremaining: 1.26s\n",
      "44:\tlearn: 7.8026962\ttotal: 1.01s\tremaining: 1.24s\n",
      "45:\tlearn: 7.8002840\ttotal: 1.03s\tremaining: 1.21s\n",
      "46:\tlearn: 7.7976383\ttotal: 1.05s\tremaining: 1.19s\n",
      "47:\tlearn: 7.7949810\ttotal: 1.07s\tremaining: 1.16s\n",
      "48:\tlearn: 7.7920030\ttotal: 1.1s\tremaining: 1.14s\n",
      "49:\tlearn: 7.7894326\ttotal: 1.12s\tremaining: 1.12s\n",
      "50:\tlearn: 7.7870206\ttotal: 1.15s\tremaining: 1.1s\n",
      "51:\tlearn: 7.7839899\ttotal: 1.17s\tremaining: 1.08s\n",
      "52:\tlearn: 7.7812757\ttotal: 1.19s\tremaining: 1.06s\n",
      "53:\tlearn: 7.7788610\ttotal: 1.21s\tremaining: 1.03s\n",
      "54:\tlearn: 7.7760954\ttotal: 1.24s\tremaining: 1.01s\n",
      "55:\tlearn: 7.7739089\ttotal: 1.26s\tremaining: 991ms\n",
      "56:\tlearn: 7.7713013\ttotal: 1.29s\tremaining: 970ms\n",
      "57:\tlearn: 7.7682551\ttotal: 1.31s\tremaining: 947ms\n",
      "58:\tlearn: 7.7660404\ttotal: 1.34s\tremaining: 929ms\n",
      "59:\tlearn: 7.7629369\ttotal: 1.36s\tremaining: 907ms\n",
      "60:\tlearn: 7.7608155\ttotal: 1.38s\tremaining: 883ms\n",
      "61:\tlearn: 7.7580845\ttotal: 1.4s\tremaining: 860ms\n",
      "62:\tlearn: 7.7551257\ttotal: 1.42s\tremaining: 836ms\n",
      "63:\tlearn: 7.7531392\ttotal: 1.44s\tremaining: 812ms\n",
      "64:\tlearn: 7.7505056\ttotal: 1.46s\tremaining: 789ms\n",
      "65:\tlearn: 7.7478040\ttotal: 1.49s\tremaining: 765ms\n",
      "66:\tlearn: 7.7452128\ttotal: 1.51s\tremaining: 742ms\n",
      "67:\tlearn: 7.7425532\ttotal: 1.53s\tremaining: 720ms\n",
      "68:\tlearn: 7.7399327\ttotal: 1.55s\tremaining: 698ms\n",
      "69:\tlearn: 7.7382301\ttotal: 1.57s\tremaining: 674ms\n",
      "70:\tlearn: 7.7358404\ttotal: 1.59s\tremaining: 651ms\n",
      "71:\tlearn: 7.7334141\ttotal: 1.61s\tremaining: 627ms\n",
      "72:\tlearn: 7.7309768\ttotal: 1.63s\tremaining: 604ms\n",
      "73:\tlearn: 7.7282228\ttotal: 1.66s\tremaining: 582ms\n",
      "74:\tlearn: 7.7259145\ttotal: 1.67s\tremaining: 558ms\n",
      "75:\tlearn: 7.7237983\ttotal: 1.69s\tremaining: 535ms\n",
      "76:\tlearn: 7.7211243\ttotal: 1.72s\tremaining: 513ms\n",
      "77:\tlearn: 7.7188722\ttotal: 1.74s\tremaining: 490ms\n",
      "78:\tlearn: 7.7166261\ttotal: 1.76s\tremaining: 469ms\n",
      "79:\tlearn: 7.7134787\ttotal: 1.79s\tremaining: 447ms\n",
      "80:\tlearn: 7.7107224\ttotal: 1.81s\tremaining: 424ms\n",
      "81:\tlearn: 7.7081304\ttotal: 1.83s\tremaining: 402ms\n",
      "82:\tlearn: 7.7053356\ttotal: 1.85s\tremaining: 379ms\n",
      "83:\tlearn: 7.7028816\ttotal: 1.87s\tremaining: 357ms\n",
      "84:\tlearn: 7.7009238\ttotal: 1.89s\tremaining: 334ms\n",
      "85:\tlearn: 7.6979305\ttotal: 1.91s\tremaining: 311ms\n",
      "86:\tlearn: 7.6953407\ttotal: 1.93s\tremaining: 289ms\n",
      "87:\tlearn: 7.6924912\ttotal: 1.96s\tremaining: 267ms\n",
      "88:\tlearn: 7.6901245\ttotal: 1.98s\tremaining: 245ms\n",
      "89:\tlearn: 7.6874492\ttotal: 2s\tremaining: 223ms\n",
      "90:\tlearn: 7.6853906\ttotal: 2.02s\tremaining: 200ms\n",
      "91:\tlearn: 7.6829830\ttotal: 2.04s\tremaining: 178ms\n",
      "92:\tlearn: 7.6804346\ttotal: 2.06s\tremaining: 155ms\n",
      "93:\tlearn: 7.6780067\ttotal: 2.08s\tremaining: 133ms\n",
      "94:\tlearn: 7.6750288\ttotal: 2.11s\tremaining: 111ms\n",
      "95:\tlearn: 7.6722459\ttotal: 2.13s\tremaining: 88.6ms\n",
      "96:\tlearn: 7.6704274\ttotal: 2.15s\tremaining: 66.4ms\n",
      "97:\tlearn: 7.6681938\ttotal: 2.17s\tremaining: 44.3ms\n",
      "98:\tlearn: 7.6658902\ttotal: 2.19s\tremaining: 22.2ms\n",
      "99:\tlearn: 7.6631419\ttotal: 2.22s\tremaining: 0us\n"
     ]
    },
    {
     "data": {
      "text/plain": [
       "<catboost.core.CatBoostRegressor at 0x7fb658766ee0>"
      ]
     },
     "execution_count": 24,
     "metadata": {},
     "output_type": "execute_result"
    }
   ],
   "source": [
    "model = CatBoostRegressor(iterations=100,\n",
    "                          learning_rate=0.3,\n",
    "                          depth=7,\n",
    "                          random_seed = 20,\n",
    "                          l2_leaf_reg = 1,\n",
    "                          loss_function='RMSE')\n",
    "model.fit(train_pool)"
   ]
  },
  {
   "cell_type": "code",
   "execution_count": 25,
   "id": "5f78c777",
   "metadata": {},
   "outputs": [
    {
     "name": "stdout",
     "output_type": "stream",
     "text": [
      "7.830323815954036\n"
     ]
    }
   ],
   "source": [
    "from sklearn.metrics import mean_squared_error\n",
    "preds = model.predict(test_pool)\n",
    "rms = np.sqrt(mean_squared_error(y_test, preds))\n",
    "print(rms)"
   ]
  },
  {
   "cell_type": "code",
   "execution_count": 68,
   "id": "47d65ba3",
   "metadata": {},
   "outputs": [],
   "source": [
    "# depth = 6\n",
    "\n",
    "# model = CatBoostRegressor(iterations=10000,\n",
    "#                           learning_rate=0.03,\n",
    "#                           depth=6,\n",
    "#                           random_seed = 20,\n",
    "#                           early_stopping_rounds = 5,\n",
    "#                           loss_function='RMSE')\n",
    "# rmse:7.813845889737223\n",
    "# score:7.90029\n",
    "\n",
    "# iter: 50000, learning_rate = 0.03\n",
    "# rmse: 7.923826522022192\n",
    "\n",
    "# iter: 5000, learning_rate = 0.03\n",
    "# rmse: 7.799099906546834\n",
    "# score: 7.89085\n",
    "\n",
    "# iter: 3000, leaning_rate = 0.03 \n",
    "# rmse: 7.796606801724997\n",
    "\n",
    "# iter: 2000, learning_rate = 0.03\n",
    "# rmse: 7.7980331449936235\n",
    "\n",
    "# iter: 3000, learning_rate = 0.05\n",
    "# rmse: 7.807504189243877\n",
    "\n",
    "# iter: 3000, learning_rate = 0.01\n",
    "# rmse: 7.807666005260566\n",
    "\n",
    "# iter: 4000, learning_rate = 0.01\n",
    "# rmse: 7.807666005260566\n",
    "\n",
    "# iter: 7000, learning_rate = 0.01\n",
    "# rmse: 7.7954222999385046\n",
    "\n",
    "# iter: 10000, learning_rate = 0.01\n",
    "# rmse: 7.793435521881254\n",
    "\n",
    "# iter: 20000, learning_rate = 0.01\n",
    "# rmse: 7.793909233479778\n",
    "\n",
    "# iter: 10000, learning_rate = 0.01, L2 regularization\n",
    "# rmse: 7.793327223673384\n",
    "\n",
    "# depth = 8\n",
    "\n",
    "# iter: 10000, learning_rate = 0.01, L2 regularization (best)\n",
    "# rmse: 7.791979454044701\n",
    "\n",
    "# iter: 8000, learning_rate = 0.01, L2 regularization\n",
    "# rmse: 7.793435521881254\n",
    "\n",
    "# depth = 10\n",
    "# iter: 10000, learning_rate = 0.01, L2 regularization\n",
    "# rmse: 7.7976\n",
    "\n",
    "# iter: 100, learning_rate = 0.3, L2 regularization\n",
    "# rmse: 7.830323815954036\n",
    "\n",
    "\n"
   ]
  },
  {
   "cell_type": "code",
   "execution_count": 90,
   "id": "11097421",
   "metadata": {},
   "outputs": [
    {
     "name": "stdout",
     "output_type": "stream",
     "text": [
      "            loss\n",
      "id              \n",
      "250000  8.134695\n",
      "250001  4.437273\n",
      "250002  8.520938\n",
      "250003  7.183588\n",
      "250004  7.617621\n",
      "...          ...\n",
      "399995  7.778029\n",
      "399996  7.007706\n",
      "399997  5.811241\n",
      "399998  5.751366\n",
      "399999  6.511879\n",
      "\n",
      "[150000 rows x 1 columns]\n"
     ]
    }
   ],
   "source": [
    "new_x_test = test_data.loc[:, 'f0':'f99']\n",
    "new_y_pred =  model.predict(new_x_test)\n",
    "\n",
    "\n",
    "from pandas import Series, DataFrame\n",
    "\n",
    "raw_data = {'id': [ i for i in range(250000,400000)],\n",
    "            'loss': new_y_pred }\n",
    "\n",
    "data = DataFrame(raw_data)\n",
    "data.set_index('id', inplace=True)\n",
    "print(data)\n",
    "data.to_csv(\"submission.csv\", mode='w')"
   ]
  },
  {
   "cell_type": "code",
   "execution_count": null,
   "id": "30c43a03",
   "metadata": {},
   "outputs": [],
   "source": []
  },
  {
   "cell_type": "code",
   "execution_count": null,
   "id": "24c0ef1d",
   "metadata": {},
   "outputs": [],
   "source": []
  }
 ],
 "metadata": {
  "kernelspec": {
   "display_name": "Python 3",
   "language": "python",
   "name": "python3"
  },
  "language_info": {
   "codemirror_mode": {
    "name": "ipython",
    "version": 3
   },
   "file_extension": ".py",
   "mimetype": "text/x-python",
   "name": "python",
   "nbconvert_exporter": "python",
   "pygments_lexer": "ipython3",
   "version": "3.8.8"
  }
 },
 "nbformat": 4,
 "nbformat_minor": 5
}
